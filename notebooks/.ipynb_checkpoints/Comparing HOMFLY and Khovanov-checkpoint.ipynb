{
 "cells": [
  {
   "cell_type": "code",
   "execution_count": 6,
   "id": "9185ae5a",
   "metadata": {},
   "outputs": [],
   "source": [
    "# Remember to cite knotinfo\n",
    "# https://knotinfo.math.indiana.edu/homelinks/cite_info.html\n",
    "import os\n",
    "import pandas as pd\n",
    "pd.options.mode.chained_assignment = None  # default='warn'\n",
    "import numpy as np\n",
    "os.chdir('/Users/alexchandler/kr-calc/csv_files') #change to python script directory\n",
    "knot_info = pd.read_csv('Knotinfo_data.csv', dtype='object')  \n",
    "\n",
    "import sklearn\n",
    "import scipy\n",
    "from sklearn.linear_model import LogisticRegression\n",
    "from sklearn.linear_model import LinearRegression\n",
    "from sklearn.ensemble import RandomForestClassifier\n",
    "from sklearn.neural_network import MLPClassifier\n",
    "from sklearn.model_selection import train_test_split, KFold, cross_val_score\n",
    "from sklearn import preprocessing\n",
    "from sklearn.preprocessing import PolynomialFeatures\n",
    "from sklearn.feature_selection import VarianceThreshold\n",
    "import itertools\n",
    "\n",
    "\n",
    "# import required module for iterating through directory\n",
    "import os\n",
    "import json\n",
    "# assign directory\n",
    "os.chdir('/Users/alexchandler/kr-calc') #change to python script directory\n",
    "directory = 'data'\n",
    "#we create a dictionary with keys: names of knots\n",
    "                          #values: dictionaries (keys: nonzero gradings, values: homology dimensions)\n",
    "homfly_data={}\n",
    "# sort directory and then iterate over files in that directory, creating a dictionary for easier use\n",
    "listing = os.listdir(directory)\n",
    "listing.sort()\n",
    "for filename in listing:\n",
    "    f = os.path.join(directory, filename)\n",
    "    # checking if it is a file\n",
    "    if os.path.isfile(f):\n",
    "        with open(f) as json_file:\n",
    "            data = json.load(json_file)\n",
    "            data_dict = {}\n",
    "            for i in range(int(len(data)/2)):\n",
    "                data_dict[tuple(data[2*i])]=data[2*i+1]\n",
    "            homfly_data[filename[:-5]]=data_dict\n",
    "            \n",
    "#import functions from functions.py (contains all functions being called in this notebook)\n",
    "os.chdir('/Users/alexchandler/kr-calc/python_scripts') #change to python script directory\n",
    "from functions import *\n",
    "\n",
    "#creates two groups: planar and nonplanar\n",
    "non_planar_knots = [knot for knot in list(homfly_data.keys()) \n",
    "                    if planar_support_alt(homfly_data[knot])>1]\n",
    "\n"
   ]
  },
  {
   "cell_type": "code",
   "execution_count": 7,
   "id": "c1782028",
   "metadata": {},
   "outputs": [],
   "source": [
    "#gathered all possible knot invariants from knotinfo (saved as 'all_knotinfo.csv')\n",
    "#turning it into a pandas dataframe\n",
    "\n",
    "#gathered all possible knot invariants from knotinfo (saved as 'all_knotinfo.csv')\n",
    "#turning it into a pandas dataframe\n",
    "os.chdir('/Users/alexchandler/kr-calc/csv_files') #change to python script directory\n",
    "knot_info = pd.read_csv('knotinfo_data_complete.csv') \n"
   ]
  },
  {
   "cell_type": "code",
   "execution_count": 8,
   "id": "2a5deebd",
   "metadata": {
    "scrolled": true
   },
   "outputs": [
    {
     "name": "stdout",
     "output_type": "stream",
     "text": [
      "name\n",
      "name_anon\n",
      "diagram\n",
      "diagram_anon\n",
      "category\n",
      "category_anon\n",
      "knot_atlas\n",
      "knot_atlas_anon\n",
      "knotilus_page\n",
      "knotilus_page_anon\n",
      "alternating\n",
      "alternating_anon\n",
      "name_rank\n",
      "name_rank_anon\n",
      "dt_name\n",
      "dt_name_anon\n",
      "dt_rank\n",
      "dt_rank_anon\n",
      "dt_notation\n",
      "dt_notation_anon\n",
      "classical_conway_name\n",
      "classical_conway_name_anon\n",
      "conway_notation\n",
      "conway_notation_anon\n",
      "two_bridge_notation\n",
      "two_bridge_notation_anon\n",
      "fibered\n",
      "fibered_anon\n",
      "gauss_notation\n",
      "gauss_notation_anon\n",
      "enhanced_gauss_notation\n",
      "enhanced_gauss_notation_anon\n",
      "pd_notation\n",
      "pd_notation_anon\n",
      "crossing_number\n",
      "crossing_number_anon\n",
      "tetrahedral_census_name\n",
      "tetrahedral_census_name_anon\n",
      "unknotting_number\n",
      "unknotting_number_anon\n",
      "three_genus\n",
      "three_genus_anon\n",
      "crosscap_number\n",
      "crosscap_number_anon\n",
      "bridge_index\n",
      "bridge_index_anon\n",
      "braid_index\n",
      "braid_index_anon\n",
      "braid_length\n",
      "braid_length_anon\n",
      "braid_notation\n",
      "braid_notation_anon\n",
      "signature\n",
      "signature_anon\n",
      "nakanishi_index\n",
      "nakanishi_index_anon\n",
      "super_bridge_index\n",
      "super_bridge_index_anon\n",
      "thurston_bennequin_number\n",
      "thurston_bennequin_number_anon\n",
      "arc_index\n",
      "arc_index_anon\n",
      "polygon_index\n",
      "polygon_index_anon\n",
      "tunnel_number\n",
      "tunnel_number_anon\n",
      "morse_novikov_number\n",
      "morse_novikov_number_anon\n",
      "alexander_polynomial\n",
      "alexander_polynomial_anon\n",
      "alexander_polynomial_vector\n",
      "alexander_polynomial_vector_anon\n",
      "jones_polynomial\n",
      "jones_polynomial_anon\n",
      "jones_polynomial_vector\n",
      "jones_polynomial_vector_anon\n",
      "conway_polynomial\n",
      "conway_polynomial_anon\n",
      "conway_polynomial_vector\n",
      "conway_polynomial_vector_anon\n",
      "homfly_polynomial\n",
      "homfly_polynomial_anon\n",
      "homfly_polynomial_vector\n",
      "homfly_polynomial_vector_anon\n",
      "kauffman_polynomial\n",
      "kauffman_polynomial_anon\n",
      "kauffman_polynomial_vector\n",
      "kauffman_polynomial_vector_anon\n",
      "a_polynomial\n",
      "a_polynomial_anon\n",
      "khovanov_polynomial\n",
      "khovanov_polynomial_anon\n",
      "khovanov_polynomial_vector\n",
      "khovanov_polynomial_vector_anon\n",
      "khovanov_torsion_polynomial\n",
      "khovanov_torsion_polynomial_anon\n",
      "khovanov_torsion_polynomial_vector\n",
      "khovanov_torsion_polynomial_vector_anon\n",
      "smooth_four_genus\n",
      "smooth_four_genus_anon\n",
      "topological_four_genus\n",
      "topological_four_genus_anon\n",
      "smooth_4d_crosscap_number\n",
      "smooth_4d_crosscap_number_anon\n",
      "topological_4d_crosscap_number\n",
      "topological_4d_crosscap_number_anon\n",
      "smooth_concordance_genus\n",
      "smooth_concordance_genus_anon\n",
      "topological_concordance_genus\n",
      "topological_concordance_genus_anon\n",
      "smooth_concordance_crosscap_number\n",
      "smooth_concordance_crosscap_number_anon\n",
      "topological_concordance_crosscap_number\n",
      "topological_concordance_crosscap_number_anon\n",
      "algebraic_concordance_order\n",
      "algebraic_concordance_order_anon\n",
      "smooth_concordance_order\n",
      "smooth_concordance_order_anon\n",
      "topological_concordance_order\n",
      "topological_concordance_order_anon\n",
      "ribbon\n",
      "ribbon_anon\n",
      "determinant\n",
      "determinant_anon\n",
      "seifert_matrix\n",
      "seifert_matrix_anon\n",
      "rasmussen_invariant\n",
      "rasmussen_invariant_anon\n",
      "ozsvath_szabo_tau_invariant\n",
      "ozsvath_szabo_tau_invariant_anon\n",
      "volume\n",
      "volume_anon\n",
      "maximum_cusp_volume\n",
      "maximum_cusp_volume_anon\n",
      "longitude_translation\n",
      "longitude_translation_anon\n",
      "meridian_translation\n",
      "meridian_translation_anon\n",
      "longitude_length\n",
      "longitude_length_anon\n",
      "meridian_length\n",
      "meridian_length_anon\n",
      "other_short_geodesics\n",
      "other_short_geodesics_anon\n",
      "symmetry_type\n",
      "symmetry_type_anon\n",
      "full_symmetry_group\n",
      "full_symmetry_group_anon\n",
      "chern_simons_invariant\n",
      "chern_simons_invariant_anon\n",
      "volume_imaginary_part\n",
      "volume_imaginary_part_anon\n",
      "arf_invariant\n",
      "arf_invariant_anon\n",
      "turaev_genus\n",
      "turaev_genus_anon\n",
      "signature_function\n",
      "signature_function_anon\n",
      "monodromy\n",
      "monodromy_anon\n",
      "small_large\n",
      "small_large_anon\n",
      "positive_braid\n",
      "positive_braid_anon\n",
      "positive\n",
      "positive_anon\n",
      "strongly_quasipositive\n",
      "strongly_quasipositive_anon\n",
      "quasipositive\n",
      "quasipositive_anon\n",
      "positive_braid_notation\n",
      "positive_braid_notation_anon\n",
      "positive_pd_notation\n",
      "positive_pd_notation_anon\n",
      "strongly_quasipositive_braid_notation\n",
      "strongly_quasipositive_braid_notation_anon\n",
      "quasipositive_braid_notation\n",
      "quasipositive_braid_notation_anon\n",
      "fd_clasp_number\n",
      "fd_clasp_number_anon\n",
      "width\n",
      "width_anon\n",
      "torsion_numbers\n",
      "torsion_numbers_anon\n",
      "td_clasp_number\n",
      "td_clasp_number_anon\n",
      "l_space\n",
      "l_space_anon\n",
      "nu\n",
      "nu_anon\n",
      "epsilon\n",
      "epsilon_anon\n",
      "quasi_alternating\n",
      "quasi_alternating_anon\n",
      "almost_alternating\n",
      "almost_alternating_anon\n",
      "adequate\n",
      "adequate_anon\n",
      "montesinos_notation\n",
      "montesinos_notation_anon\n",
      "boundary_slopes\n",
      "boundary_slopes_anon\n",
      "pretzel_notation\n",
      "pretzel_notation_anon\n",
      "double_slice_genus\n",
      "double_slice_genus_anon\n"
     ]
    }
   ],
   "source": [
    "for col in knot_info.columns:\n",
    "    print(col)"
   ]
  },
  {
   "cell_type": "code",
   "execution_count": 9,
   "id": "fdeed1d9",
   "metadata": {},
   "outputs": [],
   "source": [
    "def s_invariant(knot):\n",
    "    result = knot_info.loc[knot_info['name'] == knot]['rasmussen_invariant'].values[0]\n",
    "    return int(result)\n",
    "\n",
    "R.<q,t>=PolynomialRing(QQ)\n",
    "K=R.fraction_field()\n",
    "\n",
    "def khovanov_homology(knot):\n",
    "    poly = knot_info.loc[knot_info['name'] == knot]['khovanov_polynomial'].values[0]\n",
    "    acceptables = ['+','-','*','(','^']\n",
    "    variables=['q','t']\n",
    "    while True:\n",
    "        issuesvars = [i for i in range(len(poly)) if i>0 and (poly[i] in variables) \n",
    "                      and not (poly[i-1] in acceptables)]\n",
    "        issuesnums = [i for i in range(len(poly)) if i>0 and (poly[i].isnumeric()) \n",
    "                      and not(poly[i-1].isnumeric()) and not (poly[i-1] in acceptables)]\n",
    "        issues = issuesvars + issuesnums\n",
    "        if len(issues)==0:\n",
    "            break\n",
    "        i = issues[0]\n",
    "        poly1=poly[0:i]\n",
    "        poly2=poly[i:]\n",
    "        poly=poly1+'*'+poly2\n",
    "        \n",
    "    return K(poly).numerator().dict()\n",
    "\n",
    "def khovanov_homology_torsion(knot):\n",
    "    poly = knot_info.loc[knot_info['name'] == knot]['khovanov_torsion_polynomial'].values[0]\n",
    "    poly = poly.replace(\"Q\",'q')\n",
    "    acceptables = ['+','-','*','(','^']\n",
    "    variables=['q','t']\n",
    "    while True:\n",
    "        issuesvars = [i for i in range(len(poly)) if i>0 and (poly[i] in variables) \n",
    "                      and not (poly[i-1] in acceptables)]\n",
    "        issuesnums = [i for i in range(len(poly)) if i>0 and (poly[i].isnumeric()) \n",
    "                      and not(poly[i-1].isnumeric()) and not (poly[i-1] in acceptables)]\n",
    "        issues = issuesvars + issuesnums\n",
    "        if len(issues)==0:\n",
    "            break\n",
    "        i = issues[0]\n",
    "        poly1=poly[0:i]\n",
    "        poly2=poly[i:]\n",
    "        poly=poly1+'*'+poly2\n",
    "    return K(poly).numerator().dict()\n",
    "\n",
    "def reduced_khovanov_homology(knot):\n",
    "    kh_dict=khovanov_homology(knot)\n",
    "    print('not yet implemented... should be doable from the khovanov homology but I forget how')\n",
    "\n",
    "#for planar knots we drop the z coordinate and plot just the xy and the value of the homology\n",
    "def plot_khovanov(knot):  \n",
    "    homology = khovanov_homology(knot)\n",
    "    gradings = homology.keys()\n",
    "    #making markers as ranks of homology groups\n",
    "    markers=[]\n",
    "    for grading in gradings:\n",
    "        markers.append(homology[grading])\n",
    "    xs = [grading[1] for grading in gradings]\n",
    "    ys = [grading[0] for grading in gradings]\n",
    "    #configuring the plot\n",
    "    fig, ax = plt.subplots(1, 2, figsize=(10,10))\n",
    "    #ax[0].scatter(xs, ys, s=1, c=\"white\")\n",
    "    # change default range\n",
    "    ax[0].set_xlim((min(xs)-1, max(xs)+1))\n",
    "    ax[0].set_ylim((min(ys)-1, max(ys)+1))\n",
    "    #computing the signature\n",
    "    base = list(gradings)[0]\n",
    "    signature = str(-(base[0]+base[1]+base[2]))\n",
    "    #setting the title\n",
    "    ax[0].set(title='Khovanov Homology of '+knot+'\\nRasmussen s-invariant: '+str(s_invariant(knot)), \n",
    "              aspect=.5, xticks=range(min(xs)-1, max(xs)+2), yticks=range(min(ys), max(ys)+2,2))\n",
    "    #setting xscale and yscale to be equal\n",
    "    plt.gca().set_aspect(.5, adjustable='box')\n",
    "    #circling gradings containing d1 and dm1 homology\n",
    "\n",
    "    #making colors depending on size of homology\n",
    "    colors=[]\n",
    "    for txt in markers:\n",
    "        if txt%6==1:\n",
    "            colors.append(\"black\")\n",
    "        elif txt%6==2:\n",
    "            colors.append(\"blue\")\n",
    "        elif txt%6==3:\n",
    "            colors.append(\"green\")\n",
    "        elif txt%6==4:\n",
    "            colors.append(\"red\")\n",
    "        elif txt%6==5:\n",
    "            colors.append(\"purple\")\n",
    "        elif txt%6==0:\n",
    "            colors.append(\"orange\")\n",
    "    #drawing the ranks of homology groups over top of invisible dots\n",
    "    for i, txt in enumerate(markers):\n",
    "        text_kwargs = dict(ha='center', va='center', fontsize=20, color=colors[i])\n",
    "        ax[0].text(xs[i], ys[i], txt, **text_kwargs)\n",
    "        #ax[0].annotate(txt, xy=(xs[i], ys[i]),xytext=(xs[i]-0.3, ys[i]-0.4),fontsize=20, c=colors[i])\n",
    "    #showing image of knot\n",
    "    ax[1].set(title=knot, aspect=1, xticks=[], yticks=[])\n",
    "    img = mpimg.imread('diagrams/'+knot+'.png')\n",
    "    imgplot = ax[1].imshow(img)\n",
    "    #plt.show()\n",
    "\n",
    "\n",
    "#plt.plot(xs, ys, markers)\n",
    "#for x, y in zip(xs, ys):\n",
    "    #plt.text(x, y, markers, color=\"black\", fontsize=12)\n",
    "    \n",
    "#for planar knots we drop the z coordinate and plot just the xy and the value of the homology\n",
    "def plot_khovanov_torsion(knot):  \n",
    "    homology = khovanov_homology_torsion(knot)\n",
    "    gradings = homology.keys()\n",
    "    #making markers as ranks of homology groups\n",
    "    markers=[]\n",
    "    for grading in gradings:\n",
    "        markers.append(homology[grading])\n",
    "    xs = [grading[1] for grading in gradings]\n",
    "    ys = [grading[0] for grading in gradings]\n",
    "    #configuring the plot\n",
    "    fig, ax = plt.subplots(1, 2, figsize=(10,10))\n",
    "    #ax[0].scatter(xs, ys, s=1, c=\"white\")\n",
    "    # change default range\n",
    "    ax[0].set_xlim((min(xs)-1, max(xs)+1))\n",
    "    ax[0].set_ylim((min(ys)-1, max(ys)+1))\n",
    "    #computing the signature\n",
    "    base = list(gradings)[0]\n",
    "    signature = str(-(base[0]+base[1]+base[2]))\n",
    "    #setting the title\n",
    "    ax[0].set(title='Khovanov Homology of '+knot+'\\nRasmussen s-invariant: '+str(s_invariant(knot)), \n",
    "              aspect=.5, xticks=range(min(xs)-1, max(xs)+2), yticks=range(min(ys), max(ys)+2,2))\n",
    "    #setting xscale and yscale to be equal\n",
    "    plt.gca().set_aspect(.5, adjustable='box')\n",
    "    #circling gradings containing d1 and dm1 homology\n",
    "\n",
    "    #making colors depending on size of homology\n",
    "    colors=[]\n",
    "    for txt in markers:\n",
    "        if txt%6==1:\n",
    "            colors.append(\"black\")\n",
    "        elif txt%6==2:\n",
    "            colors.append(\"blue\")\n",
    "        elif txt%6==3:\n",
    "            colors.append(\"green\")\n",
    "        elif txt%6==4:\n",
    "            colors.append(\"red\")\n",
    "        elif txt%6==5:\n",
    "            colors.append(\"purple\")\n",
    "        elif txt%6==0:\n",
    "            colors.append(\"orange\")\n",
    "    #drawing the ranks of homology groups over top of invisible dots\n",
    "    for i, txt in enumerate(markers):\n",
    "        text_kwargs = dict(ha='center', va='center', fontsize=20, color=colors[i])\n",
    "        ax[0].text(xs[i], ys[i], txt, **text_kwargs)\n",
    "        #ax[0].annotate(txt, xy=(xs[i], ys[i]),xytext=(xs[i]-0.3, ys[i]-0.4),fontsize=20, c=colors[i])\n",
    "    #showing image of knot\n",
    "    ax[1].set(title=knot, aspect=1, xticks=[], yticks=[])\n",
    "    img = mpimg.imread('diagrams/'+knot+'.png')\n",
    "    imgplot = ax[1].imshow(img)\n",
    "    #plt.show()\n",
    "\n",
    "\n",
    "#plt.plot(xs, ys, markers)\n",
    "#for x, y in zip(xs, ys):\n",
    "    #plt.text(x, y, markers, color=\"black\", fontsize=12)\n",
    "\n"
   ]
  },
  {
   "cell_type": "code",
   "execution_count": 6,
   "id": "47dbb919",
   "metadata": {},
   "outputs": [
    {
     "name": "stdout",
     "output_type": "stream",
     "text": [
      "not yet implemented... should be doable from the khovanov homology but I forget how\n"
     ]
    }
   ],
   "source": [
    "reduced_khovanov_homology('8_19')"
   ]
  },
  {
   "cell_type": "code",
   "execution_count": 10,
   "id": "f6f117fb",
   "metadata": {},
   "outputs": [
    {
     "ename": "FileNotFoundError",
     "evalue": "[Errno 2] No such file or directory: 'diagrams/8_19.png'",
     "output_type": "error",
     "traceback": [
      "\u001b[0;31m---------------------------------------------------------------------------\u001b[0m",
      "\u001b[0;31mFileNotFoundError\u001b[0m                         Traceback (most recent call last)",
      "\u001b[0;32m/var/folders/zr/jttn57m976g1m1_y2p2t8zwm0000gn/T/ipykernel_25601/2263496509.py\u001b[0m in \u001b[0;36m<module>\u001b[0;34m\u001b[0m\n\u001b[0;32m----> 1\u001b[0;31m \u001b[0mplot_khovanov\u001b[0m\u001b[0;34m(\u001b[0m\u001b[0;34m'8_19'\u001b[0m\u001b[0;34m)\u001b[0m\u001b[0;34m\u001b[0m\u001b[0;34m\u001b[0m\u001b[0m\n\u001b[0m",
      "\u001b[0;32m/var/folders/zr/jttn57m976g1m1_y2p2t8zwm0000gn/T/ipykernel_25601/3066395760.py\u001b[0m in \u001b[0;36mplot_khovanov\u001b[0;34m(knot)\u001b[0m\n\u001b[1;32m     96\u001b[0m     \u001b[0;31m#showing image of knot\u001b[0m\u001b[0;34m\u001b[0m\u001b[0;34m\u001b[0m\u001b[0m\n\u001b[1;32m     97\u001b[0m     \u001b[0max\u001b[0m\u001b[0;34m[\u001b[0m\u001b[0mInteger\u001b[0m\u001b[0;34m(\u001b[0m\u001b[0;36m1\u001b[0m\u001b[0;34m)\u001b[0m\u001b[0;34m]\u001b[0m\u001b[0;34m.\u001b[0m\u001b[0mset\u001b[0m\u001b[0;34m(\u001b[0m\u001b[0mtitle\u001b[0m\u001b[0;34m=\u001b[0m\u001b[0mknot\u001b[0m\u001b[0;34m,\u001b[0m \u001b[0maspect\u001b[0m\u001b[0;34m=\u001b[0m\u001b[0mInteger\u001b[0m\u001b[0;34m(\u001b[0m\u001b[0;36m1\u001b[0m\u001b[0;34m)\u001b[0m\u001b[0;34m,\u001b[0m \u001b[0mxticks\u001b[0m\u001b[0;34m=\u001b[0m\u001b[0;34m[\u001b[0m\u001b[0;34m]\u001b[0m\u001b[0;34m,\u001b[0m \u001b[0myticks\u001b[0m\u001b[0;34m=\u001b[0m\u001b[0;34m[\u001b[0m\u001b[0;34m]\u001b[0m\u001b[0;34m)\u001b[0m\u001b[0;34m\u001b[0m\u001b[0;34m\u001b[0m\u001b[0m\n\u001b[0;32m---> 98\u001b[0;31m     \u001b[0mimg\u001b[0m \u001b[0;34m=\u001b[0m \u001b[0mmpimg\u001b[0m\u001b[0;34m.\u001b[0m\u001b[0mimread\u001b[0m\u001b[0;34m(\u001b[0m\u001b[0;34m'diagrams/'\u001b[0m\u001b[0;34m+\u001b[0m\u001b[0mknot\u001b[0m\u001b[0;34m+\u001b[0m\u001b[0;34m'.png'\u001b[0m\u001b[0;34m)\u001b[0m\u001b[0;34m\u001b[0m\u001b[0;34m\u001b[0m\u001b[0m\n\u001b[0m\u001b[1;32m     99\u001b[0m     \u001b[0mimgplot\u001b[0m \u001b[0;34m=\u001b[0m \u001b[0max\u001b[0m\u001b[0;34m[\u001b[0m\u001b[0mInteger\u001b[0m\u001b[0;34m(\u001b[0m\u001b[0;36m1\u001b[0m\u001b[0;34m)\u001b[0m\u001b[0;34m]\u001b[0m\u001b[0;34m.\u001b[0m\u001b[0mimshow\u001b[0m\u001b[0;34m(\u001b[0m\u001b[0mimg\u001b[0m\u001b[0;34m)\u001b[0m\u001b[0;34m\u001b[0m\u001b[0;34m\u001b[0m\u001b[0m\n\u001b[1;32m    100\u001b[0m     \u001b[0;31m#plt.show()\u001b[0m\u001b[0;34m\u001b[0m\u001b[0;34m\u001b[0m\u001b[0m\n",
      "\u001b[0;32m/private/var/tmp/sage-9.5-current/local/var/lib/sage/venv-python3.9.9/lib/python3.9/site-packages/matplotlib/image.py\u001b[0m in \u001b[0;36mimread\u001b[0;34m(fname, format)\u001b[0m\n\u001b[1;32m   1558\u001b[0m                     \u001b[0mresponse\u001b[0m \u001b[0;34m=\u001b[0m \u001b[0mio\u001b[0m\u001b[0;34m.\u001b[0m\u001b[0mBytesIO\u001b[0m\u001b[0;34m(\u001b[0m\u001b[0mresponse\u001b[0m\u001b[0;34m.\u001b[0m\u001b[0mread\u001b[0m\u001b[0;34m(\u001b[0m\u001b[0;34m)\u001b[0m\u001b[0;34m)\u001b[0m\u001b[0;34m\u001b[0m\u001b[0;34m\u001b[0m\u001b[0m\n\u001b[1;32m   1559\u001b[0m                 \u001b[0;32mreturn\u001b[0m \u001b[0mimread\u001b[0m\u001b[0;34m(\u001b[0m\u001b[0mresponse\u001b[0m\u001b[0;34m,\u001b[0m \u001b[0mformat\u001b[0m\u001b[0;34m=\u001b[0m\u001b[0mext\u001b[0m\u001b[0;34m)\u001b[0m\u001b[0;34m\u001b[0m\u001b[0;34m\u001b[0m\u001b[0m\n\u001b[0;32m-> 1560\u001b[0;31m     \u001b[0;32mwith\u001b[0m \u001b[0mimg_open\u001b[0m\u001b[0;34m(\u001b[0m\u001b[0mfname\u001b[0m\u001b[0;34m)\u001b[0m \u001b[0;32mas\u001b[0m \u001b[0mimage\u001b[0m\u001b[0;34m:\u001b[0m\u001b[0;34m\u001b[0m\u001b[0;34m\u001b[0m\u001b[0m\n\u001b[0m\u001b[1;32m   1561\u001b[0m         return (_pil_png_to_float_array(image)\n\u001b[1;32m   1562\u001b[0m                 \u001b[0;32mif\u001b[0m \u001b[0misinstance\u001b[0m\u001b[0;34m(\u001b[0m\u001b[0mimage\u001b[0m\u001b[0;34m,\u001b[0m \u001b[0mPIL\u001b[0m\u001b[0;34m.\u001b[0m\u001b[0mPngImagePlugin\u001b[0m\u001b[0;34m.\u001b[0m\u001b[0mPngImageFile\u001b[0m\u001b[0;34m)\u001b[0m \u001b[0;32melse\u001b[0m\u001b[0;34m\u001b[0m\u001b[0;34m\u001b[0m\u001b[0m\n",
      "\u001b[0;32m/private/var/tmp/sage-9.5-current/local/var/lib/sage/venv-python3.9.9/lib/python3.9/site-packages/PIL/ImageFile.py\u001b[0m in \u001b[0;36m__init__\u001b[0;34m(self, fp, filename)\u001b[0m\n\u001b[1;32m    107\u001b[0m         \u001b[0;32mif\u001b[0m \u001b[0misPath\u001b[0m\u001b[0;34m(\u001b[0m\u001b[0mfp\u001b[0m\u001b[0;34m)\u001b[0m\u001b[0;34m:\u001b[0m\u001b[0;34m\u001b[0m\u001b[0;34m\u001b[0m\u001b[0m\n\u001b[1;32m    108\u001b[0m             \u001b[0;31m# filename\u001b[0m\u001b[0;34m\u001b[0m\u001b[0;34m\u001b[0m\u001b[0m\n\u001b[0;32m--> 109\u001b[0;31m             \u001b[0mself\u001b[0m\u001b[0;34m.\u001b[0m\u001b[0mfp\u001b[0m \u001b[0;34m=\u001b[0m \u001b[0mopen\u001b[0m\u001b[0;34m(\u001b[0m\u001b[0mfp\u001b[0m\u001b[0;34m,\u001b[0m \u001b[0;34m\"rb\"\u001b[0m\u001b[0;34m)\u001b[0m\u001b[0;34m\u001b[0m\u001b[0;34m\u001b[0m\u001b[0m\n\u001b[0m\u001b[1;32m    110\u001b[0m             \u001b[0mself\u001b[0m\u001b[0;34m.\u001b[0m\u001b[0mfilename\u001b[0m \u001b[0;34m=\u001b[0m \u001b[0mfp\u001b[0m\u001b[0;34m\u001b[0m\u001b[0;34m\u001b[0m\u001b[0m\n\u001b[1;32m    111\u001b[0m             \u001b[0mself\u001b[0m\u001b[0;34m.\u001b[0m\u001b[0m_exclusive_fp\u001b[0m \u001b[0;34m=\u001b[0m \u001b[0;32mTrue\u001b[0m\u001b[0;34m\u001b[0m\u001b[0;34m\u001b[0m\u001b[0m\n",
      "\u001b[0;31mFileNotFoundError\u001b[0m: [Errno 2] No such file or directory: 'diagrams/8_19.png'"
     ]
    },
    {
     "data": {
      "image/png": "[encoded data removed]",
      "text/plain": [
       "<Figure size 720x720 with 2 Axes>"
      ]
     },
     "metadata": {
      "needs_background": "light"
     },
     "output_type": "display_data"
    }
   ],
   "source": [
    "plot_khovanov('8_19')"
   ]
  },
  {
   "cell_type": "code",
   "execution_count": 5,
   "id": "eebe5825",
   "metadata": {},
   "outputs": [
    {
     "ename": "FileNotFoundError",
     "evalue": "[Errno 2] No such file or directory: 'diagrams/3_1.png'",
     "output_type": "error",
     "traceback": [
      "\u001b[0;31m---------------------------------------------------------------------------\u001b[0m",
      "\u001b[0;31mFileNotFoundError\u001b[0m                         Traceback (most recent call last)",
      "\u001b[0;32m/var/folders/zr/jttn57m976g1m1_y2p2t8zwm0000gn/T/ipykernel_25601/1076469482.py\u001b[0m in \u001b[0;36m<module>\u001b[0;34m\u001b[0m\n\u001b[0;32m----> 1\u001b[0;31m \u001b[0mplot_homology_planar\u001b[0m\u001b[0;34m(\u001b[0m\u001b[0;34m'3_1'\u001b[0m\u001b[0;34m)\u001b[0m\u001b[0;34m\u001b[0m\u001b[0;34m\u001b[0m\u001b[0m\n\u001b[0m",
      "\u001b[0;32m~/kr-calc/python_scripts/functions.py\u001b[0m in \u001b[0;36mplot_homology_planar\u001b[0;34m(knot)\u001b[0m\n\u001b[1;32m    415\u001b[0m         \u001b[0;31m#showing image of knot\u001b[0m\u001b[0;34m\u001b[0m\u001b[0;34m\u001b[0m\u001b[0m\n\u001b[1;32m    416\u001b[0m         \u001b[0max\u001b[0m\u001b[0;34m[\u001b[0m\u001b[0;36m1\u001b[0m\u001b[0;34m]\u001b[0m\u001b[0;34m.\u001b[0m\u001b[0mset\u001b[0m\u001b[0;34m(\u001b[0m\u001b[0mtitle\u001b[0m\u001b[0;34m=\u001b[0m\u001b[0mknot\u001b[0m\u001b[0;34m,\u001b[0m \u001b[0maspect\u001b[0m\u001b[0;34m=\u001b[0m\u001b[0;36m1\u001b[0m\u001b[0;34m,\u001b[0m \u001b[0mxticks\u001b[0m\u001b[0;34m=\u001b[0m\u001b[0;34m[\u001b[0m\u001b[0;34m]\u001b[0m\u001b[0;34m,\u001b[0m \u001b[0myticks\u001b[0m\u001b[0;34m=\u001b[0m\u001b[0;34m[\u001b[0m\u001b[0;34m]\u001b[0m\u001b[0;34m)\u001b[0m\u001b[0;34m\u001b[0m\u001b[0;34m\u001b[0m\u001b[0m\n\u001b[0;32m--> 417\u001b[0;31m         \u001b[0mimg\u001b[0m \u001b[0;34m=\u001b[0m \u001b[0mmpimg\u001b[0m\u001b[0;34m.\u001b[0m\u001b[0mimread\u001b[0m\u001b[0;34m(\u001b[0m\u001b[0;34m'diagrams/'\u001b[0m\u001b[0;34m+\u001b[0m\u001b[0mknot\u001b[0m\u001b[0;34m+\u001b[0m\u001b[0;34m'.png'\u001b[0m\u001b[0;34m)\u001b[0m\u001b[0;34m\u001b[0m\u001b[0;34m\u001b[0m\u001b[0m\n\u001b[0m\u001b[1;32m    418\u001b[0m         \u001b[0mimgplot\u001b[0m \u001b[0;34m=\u001b[0m \u001b[0max\u001b[0m\u001b[0;34m[\u001b[0m\u001b[0;36m1\u001b[0m\u001b[0;34m]\u001b[0m\u001b[0;34m.\u001b[0m\u001b[0mimshow\u001b[0m\u001b[0;34m(\u001b[0m\u001b[0mimg\u001b[0m\u001b[0;34m)\u001b[0m\u001b[0;34m\u001b[0m\u001b[0;34m\u001b[0m\u001b[0m\n\u001b[1;32m    419\u001b[0m         \u001b[0;31m#plt.show()\u001b[0m\u001b[0;34m\u001b[0m\u001b[0;34m\u001b[0m\u001b[0m\n",
      "\u001b[0;32m/private/var/tmp/sage-9.5-current/local/var/lib/sage/venv-python3.9.9/lib/python3.9/site-packages/matplotlib/image.py\u001b[0m in \u001b[0;36mimread\u001b[0;34m(fname, format)\u001b[0m\n\u001b[1;32m   1558\u001b[0m                     \u001b[0mresponse\u001b[0m \u001b[0;34m=\u001b[0m \u001b[0mio\u001b[0m\u001b[0;34m.\u001b[0m\u001b[0mBytesIO\u001b[0m\u001b[0;34m(\u001b[0m\u001b[0mresponse\u001b[0m\u001b[0;34m.\u001b[0m\u001b[0mread\u001b[0m\u001b[0;34m(\u001b[0m\u001b[0;34m)\u001b[0m\u001b[0;34m)\u001b[0m\u001b[0;34m\u001b[0m\u001b[0;34m\u001b[0m\u001b[0m\n\u001b[1;32m   1559\u001b[0m                 \u001b[0;32mreturn\u001b[0m \u001b[0mimread\u001b[0m\u001b[0;34m(\u001b[0m\u001b[0mresponse\u001b[0m\u001b[0;34m,\u001b[0m \u001b[0mformat\u001b[0m\u001b[0;34m=\u001b[0m\u001b[0mext\u001b[0m\u001b[0;34m)\u001b[0m\u001b[0;34m\u001b[0m\u001b[0;34m\u001b[0m\u001b[0m\n\u001b[0;32m-> 1560\u001b[0;31m     \u001b[0;32mwith\u001b[0m \u001b[0mimg_open\u001b[0m\u001b[0;34m(\u001b[0m\u001b[0mfname\u001b[0m\u001b[0;34m)\u001b[0m \u001b[0;32mas\u001b[0m \u001b[0mimage\u001b[0m\u001b[0;34m:\u001b[0m\u001b[0;34m\u001b[0m\u001b[0;34m\u001b[0m\u001b[0m\n\u001b[0m\u001b[1;32m   1561\u001b[0m         return (_pil_png_to_float_array(image)\n\u001b[1;32m   1562\u001b[0m                 \u001b[0;32mif\u001b[0m \u001b[0misinstance\u001b[0m\u001b[0;34m(\u001b[0m\u001b[0mimage\u001b[0m\u001b[0;34m,\u001b[0m \u001b[0mPIL\u001b[0m\u001b[0;34m.\u001b[0m\u001b[0mPngImagePlugin\u001b[0m\u001b[0;34m.\u001b[0m\u001b[0mPngImageFile\u001b[0m\u001b[0;34m)\u001b[0m \u001b[0;32melse\u001b[0m\u001b[0;34m\u001b[0m\u001b[0;34m\u001b[0m\u001b[0m\n",
      "\u001b[0;32m/private/var/tmp/sage-9.5-current/local/var/lib/sage/venv-python3.9.9/lib/python3.9/site-packages/PIL/ImageFile.py\u001b[0m in \u001b[0;36m__init__\u001b[0;34m(self, fp, filename)\u001b[0m\n\u001b[1;32m    107\u001b[0m         \u001b[0;32mif\u001b[0m \u001b[0misPath\u001b[0m\u001b[0;34m(\u001b[0m\u001b[0mfp\u001b[0m\u001b[0;34m)\u001b[0m\u001b[0;34m:\u001b[0m\u001b[0;34m\u001b[0m\u001b[0;34m\u001b[0m\u001b[0m\n\u001b[1;32m    108\u001b[0m             \u001b[0;31m# filename\u001b[0m\u001b[0;34m\u001b[0m\u001b[0;34m\u001b[0m\u001b[0m\n\u001b[0;32m--> 109\u001b[0;31m             \u001b[0mself\u001b[0m\u001b[0;34m.\u001b[0m\u001b[0mfp\u001b[0m \u001b[0;34m=\u001b[0m \u001b[0mopen\u001b[0m\u001b[0;34m(\u001b[0m\u001b[0mfp\u001b[0m\u001b[0;34m,\u001b[0m \u001b[0;34m\"rb\"\u001b[0m\u001b[0;34m)\u001b[0m\u001b[0;34m\u001b[0m\u001b[0;34m\u001b[0m\u001b[0m\n\u001b[0m\u001b[1;32m    110\u001b[0m             \u001b[0mself\u001b[0m\u001b[0;34m.\u001b[0m\u001b[0mfilename\u001b[0m \u001b[0;34m=\u001b[0m \u001b[0mfp\u001b[0m\u001b[0;34m\u001b[0m\u001b[0;34m\u001b[0m\u001b[0m\n\u001b[1;32m    111\u001b[0m             \u001b[0mself\u001b[0m\u001b[0;34m.\u001b[0m\u001b[0m_exclusive_fp\u001b[0m \u001b[0;34m=\u001b[0m \u001b[0;32mTrue\u001b[0m\u001b[0;34m\u001b[0m\u001b[0;34m\u001b[0m\u001b[0m\n",
      "\u001b[0;31mFileNotFoundError\u001b[0m: [Errno 2] No such file or directory: 'diagrams/3_1.png'"
     ]
    },
    {
     "data": {
      "image/png": "[encoded data removed]",
      "text/plain": [
       "<Figure size 720x720 with 2 Axes>"
      ]
     },
     "metadata": {
      "needs_background": "light"
     },
     "output_type": "display_data"
    }
   ],
   "source": [
    "plot_homology_planar('3_1')"
   ]
  },
  {
   "cell_type": "code",
   "execution_count": 10,
   "id": "5fd7f8aa",
   "metadata": {},
   "outputs": [
    {
     "data": {
      "image/png": "[encoded data removed]",
      "text/plain": [
       "<Figure size 720x720 with 2 Axes>"
      ]
     },
     "metadata": {
      "needs_background": "light"
     },
     "output_type": "display_data"
    }
   ],
   "source": [
    "plot_khovanov_torsion('3_1')"
   ]
  },
  {
   "cell_type": "code",
   "execution_count": 9,
   "id": "d52860ba",
   "metadata": {},
   "outputs": [
    {
     "data": {
      "text/plain": [
       "{(8, 3): 1, (6, 3): 1, (4, 1): 1, (0, 0): 1}"
      ]
     },
     "execution_count": 9,
     "metadata": {},
     "output_type": "execute_result"
    }
   ],
   "source": [
    "khovanov_homology('3_1')"
   ]
  },
  {
   "cell_type": "code",
   "execution_count": 11,
   "id": "3f031ee5",
   "metadata": {},
   "outputs": [
    {
     "data": {
      "text/plain": [
       "{(0, 0): 1}"
      ]
     },
     "execution_count": 11,
     "metadata": {},
     "output_type": "execute_result"
    }
   ],
   "source": [
    "khovanov_homology_torsion('3_1')"
   ]
  },
  {
   "cell_type": "code",
   "execution_count": 13,
   "id": "84e151a8",
   "metadata": {},
   "outputs": [
    {
     "data": {
      "text/plain": [
       "'Q^(-7)t^(-2)'"
      ]
     },
     "execution_count": 13,
     "metadata": {},
     "output_type": "execute_result"
    }
   ],
   "source": [
    "poly = knot_info.loc[knot_info['name'] == '3_1']['khovanov_torsion_polynomial'].values[0];poly"
   ]
  },
  {
   "cell_type": "code",
   "execution_count": 78,
   "id": "12980731",
   "metadata": {},
   "outputs": [
    {
     "data": {
      "text/plain": [
       "4"
      ]
     },
     "execution_count": 78,
     "metadata": {},
     "output_type": "execute_result"
    }
   ],
   "source": [
    "s_invariant('5_1')"
   ]
  },
  {
   "cell_type": "code",
   "execution_count": 79,
   "id": "6a61edc4",
   "metadata": {},
   "outputs": [
    {
     "data": {
      "image/png": "[encoded data removed]",
      "text/plain": [
       "<Figure size 720x720 with 3 Axes>"
      ]
     },
     "metadata": {
      "needs_background": "light"
     },
     "output_type": "display_data"
    }
   ],
   "source": [
    "plot_homology_nonplanar('8_19')"
   ]
  },
  {
   "cell_type": "code",
   "execution_count": 80,
   "id": "0c68fa93",
   "metadata": {},
   "outputs": [
    {
     "data": {
      "image/png": "[encoded data removed]",
      "text/plain": [
       "<Figure size 720x720 with 2 Axes>"
      ]
     },
     "metadata": {
      "needs_background": "light"
     },
     "output_type": "display_data"
    }
   ],
   "source": [
    "plot_khovanov('8_19')"
   ]
  },
  {
   "cell_type": "code",
   "execution_count": 97,
   "id": "74888544",
   "metadata": {},
   "outputs": [
    {
     "data": {
      "text/plain": [
       "{(18, 8): 1,\n",
       " (14, 7): 1,\n",
       " (14, 6): 2,\n",
       " (12, 6): 1,\n",
       " (12, 5): 1,\n",
       " (10, 5): 1,\n",
       " (10, 4): 1,\n",
       " (8, 4): 1,\n",
       " (8, 3): 1,\n",
       " (6, 3): 1,\n",
       " (4, 2): 1,\n",
       " (4, 1): 1,\n",
       " (0, 0): 1}"
      ]
     },
     "execution_count": 97,
     "metadata": {},
     "output_type": "execute_result"
    }
   ],
   "source": [
    "hom = khovanov_homology('8_1');hom"
   ]
  },
  {
   "cell_type": "code",
   "execution_count": null,
   "id": "17fec839",
   "metadata": {},
   "outputs": [],
   "source": [
    "def reduced_khovanov_homology(knot):\n",
    "    kh = khovanov_homology(knot);\n",
    "    for key in kh.keys():\n",
    "        "
   ]
  },
  {
   "cell_type": "code",
   "execution_count": 84,
   "id": "3a00f9ba",
   "metadata": {},
   "outputs": [
    {
     "data": {
      "text/plain": [
       "{(14, 7): 1, (10, 5): 1, (8, 4): 1, (6, 3): 1, (4, 2): 1, (0, 0): 1}"
      ]
     },
     "execution_count": 84,
     "metadata": {},
     "output_type": "execute_result"
    }
   ],
   "source": [
    "hom = khovanov_homology_torsion('8_1');hom\n"
   ]
  },
  {
   "cell_type": "code",
   "execution_count": 87,
   "id": "a4fa6016",
   "metadata": {},
   "outputs": [
    {
     "data": {
      "image/png": "[encoded data removed]",
      "text/plain": [
       "<Figure size 720x720 with 2 Axes>"
      ]
     },
     "metadata": {
      "needs_background": "light"
     },
     "output_type": "display_data"
    }
   ],
   "source": [
    "plot_khovanov_torsion('3_1')"
   ]
  },
  {
   "cell_type": "code",
   "execution_count": 69,
   "id": "e2cda0b1",
   "metadata": {},
   "outputs": [
    {
     "data": {
      "text/plain": [
       "'q^(-9)t^(-3)+q^(-5)t^(-2)+q^(-3)+q^(-1)'"
      ]
     },
     "execution_count": 69,
     "metadata": {},
     "output_type": "execute_result"
    }
   ],
   "source": [
    "knot='3_1'\n",
    "poly=knot_info.loc[knot_info['name'] == knot]['khovanov_polynomial'].values[0]\n",
    "poly"
   ]
  },
  {
   "cell_type": "code",
   "execution_count": 64,
   "id": "a8867f0a",
   "metadata": {},
   "outputs": [],
   "source": [
    "R.<q,t>=PolynomialRing(QQ)\n",
    "K=R.fraction_field()"
   ]
  },
  {
   "cell_type": "code",
   "execution_count": 93,
   "id": "62a6e3e6",
   "metadata": {},
   "outputs": [
    {
     "data": {
      "text/plain": [
       "'Q^(-7)t^(-2)'"
      ]
     },
     "execution_count": 93,
     "metadata": {},
     "output_type": "execute_result"
    }
   ],
   "source": [
    "knot='3_1'\n",
    "knot_info.loc[knot_info['name'] == knot]['khovanov_torsion_polynomial'].values[0]"
   ]
  },
  {
   "cell_type": "code",
   "execution_count": 98,
   "id": "8ebe1d85",
   "metadata": {},
   "outputs": [],
   "source": [
    "B = BraidGroup(5)\n",
    "K = Knot(B([1,2,3,4,1,2,3,4,1,2,3,4,1,2,3,4,1,2,3,4,1,2,3,4]))"
   ]
  },
  {
   "cell_type": "code",
   "execution_count": 100,
   "id": "2e52f819",
   "metadata": {},
   "outputs": [
    {
     "ename": "KeyboardInterrupt",
     "evalue": "",
     "output_type": "error",
     "traceback": [
      "\u001b[0;31m---------------------------------------------------------------------------\u001b[0m",
      "\u001b[0;31mKeyError\u001b[0m                                  Traceback (most recent call last)",
      "\u001b[0;32m/private/var/tmp/sage-9.5-current/local/var/lib/sage/venv-python3.9.9/lib/python3.9/site-packages/sage/misc/cachefunc.pyx\u001b[0m in \u001b[0;36msage.misc.cachefunc.CachedMethodCaller.__call__ (build/cythonized/sage/misc/cachefunc.c:10347)\u001b[0;34m()\u001b[0m\n\u001b[1;32m   1942\u001b[0m             \u001b[0;32mtry\u001b[0m\u001b[0;34m:\u001b[0m\u001b[0;34m\u001b[0m\u001b[0;34m\u001b[0m\u001b[0m\n\u001b[0;32m-> 1943\u001b[0;31m                 \u001b[0;32mreturn\u001b[0m \u001b[0mcache\u001b[0m\u001b[0;34m[\u001b[0m\u001b[0mk\u001b[0m\u001b[0;34m]\u001b[0m\u001b[0;34m\u001b[0m\u001b[0;34m\u001b[0m\u001b[0m\n\u001b[0m\u001b[1;32m   1944\u001b[0m             \u001b[0;32mexcept\u001b[0m \u001b[0mTypeError\u001b[0m\u001b[0;34m:\u001b[0m  \u001b[0;31m# k is not hashable\u001b[0m\u001b[0;34m\u001b[0m\u001b[0;34m\u001b[0m\u001b[0m\n",
      "\u001b[0;31mKeyError\u001b[0m: ((0, Rational Field), ())",
      "\nDuring handling of the above exception, another exception occurred:\n",
      "\u001b[0;31mKeyboardInterrupt\u001b[0m                         Traceback (most recent call last)",
      "\u001b[0;32m/tmp/ipykernel_68624/3653278020.py\u001b[0m in \u001b[0;36m<module>\u001b[0;34m\u001b[0m\n\u001b[0;32m----> 1\u001b[0;31m \u001b[0mK\u001b[0m\u001b[0;34m.\u001b[0m\u001b[0mkhovanov_homology\u001b[0m\u001b[0;34m(\u001b[0m\u001b[0mring\u001b[0m\u001b[0;34m=\u001b[0m\u001b[0mQQ\u001b[0m\u001b[0;34m,\u001b[0m\u001b[0mheight\u001b[0m\u001b[0;34m=\u001b[0m\u001b[0mInteger\u001b[0m\u001b[0;34m(\u001b[0m\u001b[0;36m0\u001b[0m\u001b[0;34m)\u001b[0m\u001b[0;34m,\u001b[0m\u001b[0mdegree\u001b[0m\u001b[0;34m=\u001b[0m\u001b[0mInteger\u001b[0m\u001b[0;34m(\u001b[0m\u001b[0;36m0\u001b[0m\u001b[0;34m)\u001b[0m\u001b[0;34m)\u001b[0m\u001b[0;34m\u001b[0m\u001b[0;34m\u001b[0m\u001b[0m\n\u001b[0m",
      "\u001b[0;32m/private/var/tmp/sage-9.5-current/local/var/lib/sage/venv-python3.9.9/lib/python3.9/site-packages/sage/knots/link.py\u001b[0m in \u001b[0;36mkhovanov_homology\u001b[0;34m(self, ring, height, degree)\u001b[0m\n\u001b[1;32m   1227\u001b[0m             \u001b[0mheights\u001b[0m \u001b[0;34m=\u001b[0m \u001b[0msorted\u001b[0m\u001b[0;34m(\u001b[0m\u001b[0mset\u001b[0m\u001b[0;34m(\u001b[0m\u001b[0mstate\u001b[0m\u001b[0;34m[\u001b[0m\u001b[0;34m-\u001b[0m\u001b[0;36m1\u001b[0m\u001b[0;34m]\u001b[0m \u001b[0;32mfor\u001b[0m \u001b[0mstate\u001b[0m \u001b[0;32min\u001b[0m \u001b[0mself\u001b[0m\u001b[0;34m.\u001b[0m\u001b[0m_enhanced_states\u001b[0m\u001b[0;34m(\u001b[0m\u001b[0;34m)\u001b[0m\u001b[0;34m)\u001b[0m\u001b[0;34m)\u001b[0m\u001b[0;34m\u001b[0m\u001b[0;34m\u001b[0m\u001b[0m\n\u001b[1;32m   1228\u001b[0m         \u001b[0;32mif\u001b[0m \u001b[0mdegree\u001b[0m \u001b[0;32mis\u001b[0m \u001b[0;32mnot\u001b[0m \u001b[0;32mNone\u001b[0m\u001b[0;34m:\u001b[0m\u001b[0;34m\u001b[0m\u001b[0;34m\u001b[0m\u001b[0m\n\u001b[0;32m-> 1229\u001b[0;31m             \u001b[0mhoms\u001b[0m \u001b[0;34m=\u001b[0m \u001b[0;34m{\u001b[0m\u001b[0mj\u001b[0m\u001b[0;34m:\u001b[0m \u001b[0mdict\u001b[0m\u001b[0;34m(\u001b[0m\u001b[0mself\u001b[0m\u001b[0;34m.\u001b[0m\u001b[0m_khovanov_homology_cached\u001b[0m\u001b[0;34m(\u001b[0m\u001b[0mj\u001b[0m\u001b[0;34m,\u001b[0m \u001b[0mring\u001b[0m\u001b[0;34m)\u001b[0m\u001b[0;34m)\u001b[0m \u001b[0;32mfor\u001b[0m \u001b[0mj\u001b[0m \u001b[0;32min\u001b[0m \u001b[0mheights\u001b[0m\u001b[0;34m}\u001b[0m\u001b[0;34m\u001b[0m\u001b[0;34m\u001b[0m\u001b[0m\n\u001b[0m\u001b[1;32m   1230\u001b[0m             \u001b[0mhomologies\u001b[0m \u001b[0;34m=\u001b[0m \u001b[0;34m{\u001b[0m\u001b[0mj\u001b[0m\u001b[0;34m:\u001b[0m \u001b[0;34m{\u001b[0m\u001b[0mdegree\u001b[0m\u001b[0;34m:\u001b[0m \u001b[0mhoms\u001b[0m\u001b[0;34m[\u001b[0m\u001b[0mj\u001b[0m\u001b[0;34m]\u001b[0m\u001b[0;34m[\u001b[0m\u001b[0mdegree\u001b[0m\u001b[0;34m]\u001b[0m\u001b[0;34m}\u001b[0m \u001b[0;32mfor\u001b[0m \u001b[0mj\u001b[0m \u001b[0;32min\u001b[0m \u001b[0mhoms\u001b[0m \u001b[0;32mif\u001b[0m \u001b[0mdegree\u001b[0m \u001b[0;32min\u001b[0m \u001b[0mhoms\u001b[0m\u001b[0;34m[\u001b[0m\u001b[0mj\u001b[0m\u001b[0;34m]\u001b[0m\u001b[0;34m}\u001b[0m\u001b[0;34m\u001b[0m\u001b[0;34m\u001b[0m\u001b[0m\n\u001b[1;32m   1231\u001b[0m         \u001b[0;32melse\u001b[0m\u001b[0;34m:\u001b[0m\u001b[0;34m\u001b[0m\u001b[0;34m\u001b[0m\u001b[0m\n",
      "\u001b[0;32m/private/var/tmp/sage-9.5-current/local/var/lib/sage/venv-python3.9.9/lib/python3.9/site-packages/sage/knots/link.py\u001b[0m in \u001b[0;36m<dictcomp>\u001b[0;34m(.0)\u001b[0m\n\u001b[1;32m   1227\u001b[0m             \u001b[0mheights\u001b[0m \u001b[0;34m=\u001b[0m \u001b[0msorted\u001b[0m\u001b[0;34m(\u001b[0m\u001b[0mset\u001b[0m\u001b[0;34m(\u001b[0m\u001b[0mstate\u001b[0m\u001b[0;34m[\u001b[0m\u001b[0;34m-\u001b[0m\u001b[0;36m1\u001b[0m\u001b[0;34m]\u001b[0m \u001b[0;32mfor\u001b[0m \u001b[0mstate\u001b[0m \u001b[0;32min\u001b[0m \u001b[0mself\u001b[0m\u001b[0;34m.\u001b[0m\u001b[0m_enhanced_states\u001b[0m\u001b[0;34m(\u001b[0m\u001b[0;34m)\u001b[0m\u001b[0;34m)\u001b[0m\u001b[0;34m)\u001b[0m\u001b[0;34m\u001b[0m\u001b[0;34m\u001b[0m\u001b[0m\n\u001b[1;32m   1228\u001b[0m         \u001b[0;32mif\u001b[0m \u001b[0mdegree\u001b[0m \u001b[0;32mis\u001b[0m \u001b[0;32mnot\u001b[0m \u001b[0;32mNone\u001b[0m\u001b[0;34m:\u001b[0m\u001b[0;34m\u001b[0m\u001b[0;34m\u001b[0m\u001b[0m\n\u001b[0;32m-> 1229\u001b[0;31m             \u001b[0mhoms\u001b[0m \u001b[0;34m=\u001b[0m \u001b[0;34m{\u001b[0m\u001b[0mj\u001b[0m\u001b[0;34m:\u001b[0m \u001b[0mdict\u001b[0m\u001b[0;34m(\u001b[0m\u001b[0mself\u001b[0m\u001b[0;34m.\u001b[0m\u001b[0m_khovanov_homology_cached\u001b[0m\u001b[0;34m(\u001b[0m\u001b[0mj\u001b[0m\u001b[0;34m,\u001b[0m \u001b[0mring\u001b[0m\u001b[0;34m)\u001b[0m\u001b[0;34m)\u001b[0m \u001b[0;32mfor\u001b[0m \u001b[0mj\u001b[0m \u001b[0;32min\u001b[0m \u001b[0mheights\u001b[0m\u001b[0;34m}\u001b[0m\u001b[0;34m\u001b[0m\u001b[0;34m\u001b[0m\u001b[0m\n\u001b[0m\u001b[1;32m   1230\u001b[0m             \u001b[0mhomologies\u001b[0m \u001b[0;34m=\u001b[0m \u001b[0;34m{\u001b[0m\u001b[0mj\u001b[0m\u001b[0;34m:\u001b[0m \u001b[0;34m{\u001b[0m\u001b[0mdegree\u001b[0m\u001b[0;34m:\u001b[0m \u001b[0mhoms\u001b[0m\u001b[0;34m[\u001b[0m\u001b[0mj\u001b[0m\u001b[0;34m]\u001b[0m\u001b[0;34m[\u001b[0m\u001b[0mdegree\u001b[0m\u001b[0;34m]\u001b[0m\u001b[0;34m}\u001b[0m \u001b[0;32mfor\u001b[0m \u001b[0mj\u001b[0m \u001b[0;32min\u001b[0m \u001b[0mhoms\u001b[0m \u001b[0;32mif\u001b[0m \u001b[0mdegree\u001b[0m \u001b[0;32min\u001b[0m \u001b[0mhoms\u001b[0m\u001b[0;34m[\u001b[0m\u001b[0mj\u001b[0m\u001b[0;34m]\u001b[0m\u001b[0;34m}\u001b[0m\u001b[0;34m\u001b[0m\u001b[0;34m\u001b[0m\u001b[0m\n\u001b[1;32m   1231\u001b[0m         \u001b[0;32melse\u001b[0m\u001b[0;34m:\u001b[0m\u001b[0;34m\u001b[0m\u001b[0;34m\u001b[0m\u001b[0m\n",
      "\u001b[0;32m/private/var/tmp/sage-9.5-current/local/var/lib/sage/venv-python3.9.9/lib/python3.9/site-packages/sage/misc/cachefunc.pyx\u001b[0m in \u001b[0;36msage.misc.cachefunc.CachedMethodCaller.__call__ (build/cythonized/sage/misc/cachefunc.c:10483)\u001b[0;34m()\u001b[0m\n\u001b[1;32m   1946\u001b[0m                 \u001b[0;32mreturn\u001b[0m \u001b[0mcache\u001b[0m\u001b[0;34m[\u001b[0m\u001b[0mk\u001b[0m\u001b[0;34m]\u001b[0m\u001b[0;34m\u001b[0m\u001b[0;34m\u001b[0m\u001b[0m\n\u001b[1;32m   1947\u001b[0m         \u001b[0;32mexcept\u001b[0m \u001b[0mKeyError\u001b[0m\u001b[0;34m:\u001b[0m\u001b[0;34m\u001b[0m\u001b[0;34m\u001b[0m\u001b[0m\n\u001b[0;32m-> 1948\u001b[0;31m             \u001b[0mw\u001b[0m \u001b[0;34m=\u001b[0m \u001b[0mself\u001b[0m\u001b[0;34m.\u001b[0m\u001b[0m_instance_call\u001b[0m\u001b[0;34m(\u001b[0m\u001b[0;34m*\u001b[0m\u001b[0margs\u001b[0m\u001b[0;34m,\u001b[0m \u001b[0;34m**\u001b[0m\u001b[0mkwds\u001b[0m\u001b[0;34m)\u001b[0m\u001b[0;34m\u001b[0m\u001b[0;34m\u001b[0m\u001b[0m\n\u001b[0m\u001b[1;32m   1949\u001b[0m             \u001b[0mcache\u001b[0m\u001b[0;34m[\u001b[0m\u001b[0mk\u001b[0m\u001b[0;34m]\u001b[0m \u001b[0;34m=\u001b[0m \u001b[0mw\u001b[0m\u001b[0;34m\u001b[0m\u001b[0;34m\u001b[0m\u001b[0m\n\u001b[1;32m   1950\u001b[0m             \u001b[0;32mreturn\u001b[0m \u001b[0mw\u001b[0m\u001b[0;34m\u001b[0m\u001b[0;34m\u001b[0m\u001b[0m\n",
      "\u001b[0;32m/private/var/tmp/sage-9.5-current/local/var/lib/sage/venv-python3.9.9/lib/python3.9/site-packages/sage/misc/cachefunc.pyx\u001b[0m in \u001b[0;36msage.misc.cachefunc.CachedMethodCaller._instance_call (build/cythonized/sage/misc/cachefunc.c:9949)\u001b[0;34m()\u001b[0m\n\u001b[1;32m   1822\u001b[0m             \u001b[0;32mTrue\u001b[0m\u001b[0;34m\u001b[0m\u001b[0;34m\u001b[0m\u001b[0m\n\u001b[1;32m   1823\u001b[0m         \"\"\"\n\u001b[0;32m-> 1824\u001b[0;31m         \u001b[0;32mreturn\u001b[0m \u001b[0mself\u001b[0m\u001b[0;34m.\u001b[0m\u001b[0mf\u001b[0m\u001b[0;34m(\u001b[0m\u001b[0mself\u001b[0m\u001b[0;34m.\u001b[0m\u001b[0m_instance\u001b[0m\u001b[0;34m,\u001b[0m \u001b[0;34m*\u001b[0m\u001b[0margs\u001b[0m\u001b[0;34m,\u001b[0m \u001b[0;34m**\u001b[0m\u001b[0mkwds\u001b[0m\u001b[0;34m)\u001b[0m\u001b[0;34m\u001b[0m\u001b[0;34m\u001b[0m\u001b[0m\n\u001b[0m\u001b[1;32m   1825\u001b[0m \u001b[0;34m\u001b[0m\u001b[0m\n\u001b[1;32m   1826\u001b[0m     \u001b[0mcdef\u001b[0m \u001b[0mfix_args_kwds\u001b[0m\u001b[0;34m(\u001b[0m\u001b[0mself\u001b[0m\u001b[0;34m,\u001b[0m \u001b[0mtuple\u001b[0m \u001b[0margs\u001b[0m\u001b[0;34m,\u001b[0m \u001b[0mdict\u001b[0m \u001b[0mkwds\u001b[0m\u001b[0;34m)\u001b[0m\u001b[0;34m:\u001b[0m\u001b[0;34m\u001b[0m\u001b[0;34m\u001b[0m\u001b[0m\n",
      "\u001b[0;32m/private/var/tmp/sage-9.5-current/local/var/lib/sage/venv-python3.9.9/lib/python3.9/site-packages/sage/knots/link.py\u001b[0m in \u001b[0;36m_khovanov_homology_cached\u001b[0;34m(self, height, ring)\u001b[0m\n\u001b[1;32m   1113\u001b[0m         \u001b[0mncross\u001b[0m \u001b[0;34m=\u001b[0m \u001b[0mlen\u001b[0m\u001b[0;34m(\u001b[0m\u001b[0mcrossings\u001b[0m\u001b[0;34m)\u001b[0m\u001b[0;34m\u001b[0m\u001b[0;34m\u001b[0m\u001b[0m\n\u001b[1;32m   1114\u001b[0m         states = [(_0, set(_1), set(_2), _3, _4)\n\u001b[0;32m-> 1115\u001b[0;31m                   for (_0, _1, _2, _3, _4) in self._enhanced_states()]\n\u001b[0m\u001b[1;32m   1116\u001b[0m         \u001b[0mbases\u001b[0m \u001b[0;34m=\u001b[0m \u001b[0;34m{\u001b[0m\u001b[0;34m}\u001b[0m  \u001b[0;31m# arrange them by (i,j)\u001b[0m\u001b[0;34m\u001b[0m\u001b[0;34m\u001b[0m\u001b[0m\n\u001b[1;32m   1117\u001b[0m         \u001b[0;32mfor\u001b[0m \u001b[0mst\u001b[0m \u001b[0;32min\u001b[0m \u001b[0mstates\u001b[0m\u001b[0;34m:\u001b[0m\u001b[0;34m\u001b[0m\u001b[0;34m\u001b[0m\u001b[0m\n",
      "\u001b[0;32m/private/var/tmp/sage-9.5-current/local/var/lib/sage/venv-python3.9.9/lib/python3.9/site-packages/sage/misc/cachefunc.pyx\u001b[0m in \u001b[0;36msage.misc.cachefunc.CachedMethodCallerNoArgs.__call__ (build/cythonized/sage/misc/cachefunc.c:12957)\u001b[0;34m()\u001b[0m\n\u001b[1;32m   2308\u001b[0m         \u001b[0;32mif\u001b[0m \u001b[0mself\u001b[0m\u001b[0;34m.\u001b[0m\u001b[0mcache\u001b[0m \u001b[0;32mis\u001b[0m \u001b[0;32mNone\u001b[0m\u001b[0;34m:\u001b[0m\u001b[0;34m\u001b[0m\u001b[0;34m\u001b[0m\u001b[0m\n\u001b[1;32m   2309\u001b[0m             \u001b[0mf\u001b[0m \u001b[0;34m=\u001b[0m \u001b[0mself\u001b[0m\u001b[0;34m.\u001b[0m\u001b[0mf\u001b[0m\u001b[0;34m\u001b[0m\u001b[0;34m\u001b[0m\u001b[0m\n\u001b[0;32m-> 2310\u001b[0;31m             \u001b[0mself\u001b[0m\u001b[0;34m.\u001b[0m\u001b[0mcache\u001b[0m \u001b[0;34m=\u001b[0m \u001b[0mf\u001b[0m\u001b[0;34m(\u001b[0m\u001b[0mself\u001b[0m\u001b[0;34m.\u001b[0m\u001b[0m_instance\u001b[0m\u001b[0;34m)\u001b[0m\u001b[0;34m\u001b[0m\u001b[0;34m\u001b[0m\u001b[0m\n\u001b[0m\u001b[1;32m   2311\u001b[0m         \u001b[0;32mreturn\u001b[0m \u001b[0mself\u001b[0m\u001b[0;34m.\u001b[0m\u001b[0mcache\u001b[0m\u001b[0;34m\u001b[0m\u001b[0;34m\u001b[0m\u001b[0m\n\u001b[1;32m   2312\u001b[0m \u001b[0;34m\u001b[0m\u001b[0m\n",
      "\u001b[0;32m/private/var/tmp/sage-9.5-current/local/var/lib/sage/venv-python3.9.9/lib/python3.9/site-packages/sage/knots/link.py\u001b[0m in \u001b[0;36m_enhanced_states\u001b[0;34m(self)\u001b[0m\n\u001b[1;32m   1059\u001b[0m                 \u001b[0;32melse\u001b[0m\u001b[0;34m:\u001b[0m\u001b[0;34m\u001b[0m\u001b[0;34m\u001b[0m\u001b[0m\n\u001b[1;32m   1060\u001b[0m                     \u001b[0;31m# positive crossings, from undercrossing to the right\u001b[0m\u001b[0;34m\u001b[0m\u001b[0;34m\u001b[0m\u001b[0m\n\u001b[0;32m-> 1061\u001b[0;31m                     \u001b[0mG\u001b[0m\u001b[0;34m.\u001b[0m\u001b[0madd_edge\u001b[0m\u001b[0;34m(\u001b[0m\u001b[0;34m(\u001b[0m\u001b[0mcr\u001b[0m\u001b[0;34m[\u001b[0m\u001b[0;36m0\u001b[0m\u001b[0;34m]\u001b[0m\u001b[0;34m,\u001b[0m \u001b[0mcr\u001b[0m\u001b[0;34m[\u001b[0m\u001b[0;36m1\u001b[0m\u001b[0;34m]\u001b[0m\u001b[0;34m,\u001b[0m \u001b[0mn\u001b[0m\u001b[0;34m)\u001b[0m\u001b[0;34m,\u001b[0m \u001b[0mcr\u001b[0m\u001b[0;34m[\u001b[0m\u001b[0;36m0\u001b[0m\u001b[0;34m]\u001b[0m\u001b[0;34m)\u001b[0m\u001b[0;34m\u001b[0m\u001b[0;34m\u001b[0m\u001b[0m\n\u001b[0m\u001b[1;32m   1062\u001b[0m                     \u001b[0mG\u001b[0m\u001b[0;34m.\u001b[0m\u001b[0madd_edge\u001b[0m\u001b[0;34m(\u001b[0m\u001b[0;34m(\u001b[0m\u001b[0mcr\u001b[0m\u001b[0;34m[\u001b[0m\u001b[0;36m0\u001b[0m\u001b[0;34m]\u001b[0m\u001b[0;34m,\u001b[0m \u001b[0mcr\u001b[0m\u001b[0;34m[\u001b[0m\u001b[0;36m1\u001b[0m\u001b[0;34m]\u001b[0m\u001b[0;34m,\u001b[0m \u001b[0mn\u001b[0m\u001b[0;34m)\u001b[0m\u001b[0;34m,\u001b[0m \u001b[0mcr\u001b[0m\u001b[0;34m[\u001b[0m\u001b[0;36m1\u001b[0m\u001b[0;34m]\u001b[0m\u001b[0;34m)\u001b[0m\u001b[0;34m\u001b[0m\u001b[0;34m\u001b[0m\u001b[0m\n\u001b[1;32m   1063\u001b[0m                     \u001b[0mG\u001b[0m\u001b[0;34m.\u001b[0m\u001b[0madd_edge\u001b[0m\u001b[0;34m(\u001b[0m\u001b[0;34m(\u001b[0m\u001b[0mcr\u001b[0m\u001b[0;34m[\u001b[0m\u001b[0;36m2\u001b[0m\u001b[0;34m]\u001b[0m\u001b[0;34m,\u001b[0m \u001b[0mcr\u001b[0m\u001b[0;34m[\u001b[0m\u001b[0;36m3\u001b[0m\u001b[0;34m]\u001b[0m\u001b[0;34m,\u001b[0m \u001b[0mn\u001b[0m\u001b[0;34m)\u001b[0m\u001b[0;34m,\u001b[0m \u001b[0mcr\u001b[0m\u001b[0;34m[\u001b[0m\u001b[0;36m2\u001b[0m\u001b[0;34m]\u001b[0m\u001b[0;34m)\u001b[0m\u001b[0;34m\u001b[0m\u001b[0;34m\u001b[0m\u001b[0m\n",
      "\u001b[0;32m/private/var/tmp/sage-9.5-current/local/var/lib/sage/venv-python3.9.9/lib/python3.9/site-packages/sage/graphs/generic_graph.py\u001b[0m in \u001b[0;36madd_edge\u001b[0;34m(self, u, v, label)\u001b[0m\n\u001b[1;32m  10981\u001b[0m                     \u001b[0;32mpass\u001b[0m\u001b[0;34m\u001b[0m\u001b[0;34m\u001b[0m\u001b[0m\n\u001b[1;32m  10982\u001b[0m \u001b[0;34m\u001b[0m\u001b[0m\n\u001b[0;32m> 10983\u001b[0;31m         \u001b[0mself\u001b[0m\u001b[0;34m.\u001b[0m\u001b[0m_backend\u001b[0m\u001b[0;34m.\u001b[0m\u001b[0madd_edge\u001b[0m\u001b[0;34m(\u001b[0m\u001b[0mu\u001b[0m\u001b[0;34m,\u001b[0m \u001b[0mv\u001b[0m\u001b[0;34m,\u001b[0m \u001b[0mlabel\u001b[0m\u001b[0;34m,\u001b[0m \u001b[0mself\u001b[0m\u001b[0;34m.\u001b[0m\u001b[0m_directed\u001b[0m\u001b[0;34m)\u001b[0m\u001b[0;34m\u001b[0m\u001b[0;34m\u001b[0m\u001b[0m\n\u001b[0m\u001b[1;32m  10984\u001b[0m \u001b[0;34m\u001b[0m\u001b[0m\n\u001b[1;32m  10985\u001b[0m     \u001b[0;32mdef\u001b[0m \u001b[0madd_edges\u001b[0m\u001b[0;34m(\u001b[0m\u001b[0mself\u001b[0m\u001b[0;34m,\u001b[0m \u001b[0medges\u001b[0m\u001b[0;34m,\u001b[0m \u001b[0mloops\u001b[0m\u001b[0;34m=\u001b[0m\u001b[0;32mTrue\u001b[0m\u001b[0;34m)\u001b[0m\u001b[0;34m:\u001b[0m\u001b[0;34m\u001b[0m\u001b[0;34m\u001b[0m\u001b[0m\n",
      "\u001b[0;32msrc/cysignals/signals.pyx\u001b[0m in \u001b[0;36mcysignals.signals.python_check_interrupt\u001b[0;34m()\u001b[0m\n",
      "\u001b[0;31mKeyboardInterrupt\u001b[0m: "
     ]
    }
   ],
   "source": [
    "K.khovanov_homology(ring=QQ,height=0,degree=0)"
   ]
  },
  {
   "cell_type": "code",
   "execution_count": null,
   "id": "a9300b14",
   "metadata": {},
   "outputs": [],
   "source": []
  }
 ],
 "metadata": {
  "kernelspec": {
   "display_name": "SageMath 9.5",
   "language": "sage",
   "name": "sagemath-9.5"
  },
  "language_info": {
   "codemirror_mode": {
    "name": "ipython",
    "version": 3
   },
   "file_extension": ".py",
   "mimetype": "text/x-python",
   "name": "python",
   "nbconvert_exporter": "python",
   "pygments_lexer": "ipython3",
   "version": "3.9.9"
  }
 },
 "nbformat": 4,
 "nbformat_minor": 5
}
