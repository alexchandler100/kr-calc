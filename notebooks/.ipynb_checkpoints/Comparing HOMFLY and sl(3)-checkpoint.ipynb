{
 "cells": [
  {
   "cell_type": "code",
   "execution_count": 2,
   "id": "17a2a3ef",
   "metadata": {},
   "outputs": [],
   "source": [
    "# Remember to cite knotinfo\n",
    "# https://knotinfo.math.indiana.edu/homelinks/cite_info.html\n",
    "import os\n",
    "import pandas as pd\n",
    "pd.options.mode.chained_assignment = None  # default='warn'\n",
    "import numpy as np\n",
    "os.chdir('/Users/alexchandler/kr-calc/csv_files') #change to python script directory\n",
    "knot_info = pd.read_csv('Knotinfo_data.csv', dtype='object')  \n",
    "\n",
    "import sklearn\n",
    "import scipy\n",
    "from sklearn.linear_model import LogisticRegression\n",
    "from sklearn.linear_model import LinearRegression\n",
    "from sklearn.ensemble import RandomForestClassifier\n",
    "from sklearn.neural_network import MLPClassifier\n",
    "from sklearn.model_selection import train_test_split, KFold, cross_val_score\n",
    "from sklearn import preprocessing\n",
    "from sklearn.preprocessing import PolynomialFeatures\n",
    "from sklearn.feature_selection import VarianceThreshold\n",
    "import itertools\n",
    "\n",
    "\n",
    "# import required module for iterating through directory\n",
    "import os\n",
    "import json\n",
    "# assign directory\n",
    "os.chdir('/Users/alexchandler/kr-calc') #change to python script directory\n",
    "directory = 'data'\n",
    "#we create a dictionary with keys: names of knots\n",
    "                          #values: dictionaries (keys: nonzero gradings, values: homology dimensions)\n",
    "homfly_data={}\n",
    "# sort directory and then iterate over files in that directory, creating a dictionary for easier use\n",
    "listing = os.listdir(directory)\n",
    "listing.sort()\n",
    "for filename in listing:\n",
    "    f = os.path.join(directory, filename)\n",
    "    # checking if it is a file\n",
    "    if os.path.isfile(f):\n",
    "        with open(f) as json_file:\n",
    "            data = json.load(json_file)\n",
    "            data_dict = {}\n",
    "            for i in range(int(len(data)/2)):\n",
    "                data_dict[tuple(data[2*i])]=data[2*i+1]\n",
    "            homfly_data[filename[:-5]]=data_dict\n",
    "            \n",
    "#import functions from functions.py (contains all functions being called in this notebook)\n",
    "os.chdir('/Users/alexchandler/kr-calc/python_scripts') #change to python script directory\n",
    "from functions import *\n",
    "\n",
    "#creates two groups: planar and nonplanar\n",
    "planar_knots = [knot for knot in list(homfly_data.keys()) \n",
    "                    if planar_support_alt(homfly_data[knot])==1]\n",
    "non_planar_knots = [knot for knot in list(homfly_data.keys()) \n",
    "                    if planar_support_alt(homfly_data[knot])>1]\n",
    "\n"
   ]
  },
  {
   "cell_type": "code",
   "execution_count": null,
   "id": "bba7ae9f",
   "metadata": {},
   "outputs": [],
   "source": []
  }
 ],
 "metadata": {
  "kernelspec": {
   "display_name": "SageMath 9.5",
   "language": "sage",
   "name": "sagemath-9.5"
  },
  "language_info": {
   "codemirror_mode": {
    "name": "ipython",
    "version": 3
   },
   "file_extension": ".py",
   "mimetype": "text/x-python",
   "name": "python",
   "nbconvert_exporter": "python",
   "pygments_lexer": "ipython3",
   "version": "3.9.9"
  }
 },
 "nbformat": 4,
 "nbformat_minor": 5
}
